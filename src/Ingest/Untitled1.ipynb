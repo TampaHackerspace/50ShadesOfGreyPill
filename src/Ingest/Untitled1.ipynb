{
 "cells": [
  {
   "cell_type": "code",
   "execution_count": 2,
   "metadata": {
    "collapsed": true
   },
   "outputs": [],
   "source": [
    "import json\n",
    "path = '../DataSources/raw/steemit/dumps/trending.json'"
   ]
  },
  {
   "cell_type": "code",
   "execution_count": 4,
   "metadata": {
    "collapsed": false
   },
   "outputs": [],
   "source": [
    "records = [json.loads(line) for line in open(path)]"
   ]
  },
  {
   "cell_type": "code",
   "execution_count": 22,
   "metadata": {
    "collapsed": false
   },
   "outputs": [],
   "source": [
    "from pandas import DataFrame, Series\n",
    "import pandas as pd\n",
    "\n",
    "frame = DataFrame(records)"
   ]
  },
  {
   "cell_type": "code",
   "execution_count": 23,
   "metadata": {
    "collapsed": false
   },
   "outputs": [
    {
     "data": {
      "text/html": [
       "<div>\n",
       "<table border=\"1\" class=\"dataframe\">\n",
       "  <thead>\n",
       "    <tr style=\"text-align: right;\">\n",
       "      <th></th>\n",
       "      <th>accounts</th>\n",
       "      <th>categories</th>\n",
       "      <th>category_idx</th>\n",
       "      <th>content</th>\n",
       "      <th>current_route</th>\n",
       "      <th>discussion_idx</th>\n",
       "      <th>error</th>\n",
       "      <th>feed_price</th>\n",
       "      <th>pow_queue</th>\n",
       "      <th>props</th>\n",
       "      <th>tag_idx</th>\n",
       "      <th>tags</th>\n",
       "      <th>witness_schedule</th>\n",
       "      <th>witnesses</th>\n",
       "    </tr>\n",
       "  </thead>\n",
       "  <tbody>\n",
       "    <tr>\n",
       "      <th>0</th>\n",
       "      <td>{u'jrcornel': {u'posting_rewards': 87174971, u...</td>\n",
       "      <td>{}</td>\n",
       "      <td>{u'active': [], u'best': [], u'recent': []}</td>\n",
       "      <td>{u'fisteganos/my-steemgig-experience-it-s-more...</td>\n",
       "      <td>/trending</td>\n",
       "      <td>{u'': {u'category': u'', u'payout': [], u'upda...</td>\n",
       "      <td></td>\n",
       "      <td>{u'quote': u'1.000 STEEM', u'base': u'0.831 SBD'}</td>\n",
       "      <td>[]</td>\n",
       "      <td>{u'total_reward_fund_steem': u'0.000 STEEM', u...</td>\n",
       "      <td>{u'trending': [u'life', u'', u'steemit', u'int...</td>\n",
       "      <td>{}</td>\n",
       "      <td>{u'max_voted_witnesses': 20, u'median_props': ...</td>\n",
       "      <td>{}</td>\n",
       "    </tr>\n",
       "  </tbody>\n",
       "</table>\n",
       "</div>"
      ],
      "text/plain": [
       "                                            accounts categories  \\\n",
       "0  {u'jrcornel': {u'posting_rewards': 87174971, u...         {}   \n",
       "\n",
       "                                  category_idx  \\\n",
       "0  {u'active': [], u'best': [], u'recent': []}   \n",
       "\n",
       "                                             content current_route  \\\n",
       "0  {u'fisteganos/my-steemgig-experience-it-s-more...     /trending   \n",
       "\n",
       "                                      discussion_idx error  \\\n",
       "0  {u'': {u'category': u'', u'payout': [], u'upda...         \n",
       "\n",
       "                                          feed_price pow_queue  \\\n",
       "0  {u'quote': u'1.000 STEEM', u'base': u'0.831 SBD'}        []   \n",
       "\n",
       "                                               props  \\\n",
       "0  {u'total_reward_fund_steem': u'0.000 STEEM', u...   \n",
       "\n",
       "                                             tag_idx tags  \\\n",
       "0  {u'trending': [u'life', u'', u'steemit', u'int...   {}   \n",
       "\n",
       "                                    witness_schedule witnesses  \n",
       "0  {u'max_voted_witnesses': 20, u'median_props': ...        {}  "
      ]
     },
     "execution_count": 23,
     "metadata": {},
     "output_type": "execute_result"
    }
   ],
   "source": [
    "frame"
   ]
  },
  {
   "cell_type": "code",
   "execution_count": null,
   "metadata": {
    "collapsed": true
   },
   "outputs": [],
   "source": []
  }
 ],
 "metadata": {
  "anaconda-cloud": {},
  "kernelspec": {
   "display_name": "Python [conda root]",
   "language": "python",
   "name": "conda-root-py"
  },
  "language_info": {
   "codemirror_mode": {
    "name": "ipython",
    "version": 2
   },
   "file_extension": ".py",
   "mimetype": "text/x-python",
   "name": "python",
   "nbconvert_exporter": "python",
   "pygments_lexer": "ipython2",
   "version": "2.7.12"
  }
 },
 "nbformat": 4,
 "nbformat_minor": 0
}
